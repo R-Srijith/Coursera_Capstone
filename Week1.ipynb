{
 "cells": [
  {
   "cell_type": "markdown",
   "id": "dfd0cce3-7e52-4b07-8a0d-d1ec918735f6",
   "metadata": {},
   "source": [
    "This notebook will be used to compleate the data science applied capstone of the IBM data science specilization\n"
   ]
  },
  {
   "cell_type": "code",
   "execution_count": 1,
   "id": "501a3f44-be54-4c7a-9735-80f4775dca1c",
   "metadata": {},
   "outputs": [],
   "source": [
    "import pandas as pd \n",
    "import numpy as np"
   ]
  },
  {
   "cell_type": "code",
   "execution_count": null,
   "id": "fec39e6d-a2a2-42a5-bd19-4de4b00bde6e",
   "metadata": {},
   "outputs": [],
   "source": [
    "print('Hello Capstone Project Course!')"
   ]
  }
 ],
 "metadata": {
  "kernelspec": {
   "display_name": "Python 3",
   "language": "python",
   "name": "python3"
  },
  "language_info": {
   "codemirror_mode": {
    "name": "ipython",
    "version": 3
   },
   "file_extension": ".py",
   "mimetype": "text/x-python",
   "name": "python",
   "nbconvert_exporter": "python",
   "pygments_lexer": "ipython3",
   "version": "3.8.8"
  }
 },
 "nbformat": 4,
 "nbformat_minor": 5
}
