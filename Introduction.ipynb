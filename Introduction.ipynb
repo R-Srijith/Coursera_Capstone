{
 "cells": [
  {
   "cell_type": "markdown",
   "id": "3496c1b7-5bdc-41d0-9da9-8350d03144d1",
   "metadata": {},
   "source": [
    "## Introduction\n"
   ]
  },
  {
   "cell_type": "markdown",
   "id": "547b3f91-ab8d-4da0-aae5-2273b17e1def",
   "metadata": {},
   "source": [
    "Madurai Idly shop is a successful chain of quick service restaurants serving traditional South-Indian vegetarian food in Bangalore. It currently has fifteen branches in Bangalore.\n",
    "Bangalore is the capital of India's southern Karnataka state. The centre of India's high-tech industry, the city is also known for its parks and nightlife.\n"
   ]
  },
  {
   "cell_type": "markdown",
   "id": "30fb412c-c04f-4acd-86d3-91c2590c24db",
   "metadata": {},
   "source": [
    "## Problem"
   ]
  },
  {
   "cell_type": "markdown",
   "id": "1a97e627-bb07-4b0b-8d40-22e45ca4679a",
   "metadata": {},
   "source": [
    "Madurai Idly shop is looking to open new branches throughout Bangalore as a part of its successful expansion. Since it is a south-Indian vegetarian restaurant, it plans on setting up shop near its vegetarian competitors.\n",
    "In addition to that, Madurai Idly shop also wants to take advantage of the online food delivery services (Swiggy, Zomato etc). These services only offer to deliver foods for a 6KM radius, as covering a distance more than that in city traffic would make the food cold. \n",
    "Hence in addition to finding areas of veg restaurants, Madurai Idly shop should also ensure that the shops are spread out to cover maximum area possible, to ensure more online delivery.\n"
   ]
  },
  {
   "cell_type": "markdown",
   "id": "d2866cfc-d847-4700-965a-1aad982e4725",
   "metadata": {},
   "source": [
    "Hence by finding the areas with more number of vegetarian restaurants, we will be able to find ares where the owners of Madurai Idly Shop can set up shop to compete."
   ]
  },
  {
   "cell_type": "markdown",
   "id": "8af00323-d0b9-4be2-a835-f6303d776c21",
   "metadata": {},
   "source": [
    "## Data\n"
   ]
  },
  {
   "cell_type": "markdown",
   "id": "6eaed84b-e992-4cba-9dcc-d792db34320f",
   "metadata": {},
   "source": [
    "I have manually collected the Latitude and Longitude of the fifteen branches of the restaurant chain form their website. Moreover, we use the data of the top 50 Indian Vegetarian restaurants from Foursquare. We use the latitude and Longitude of these restaurants to map cluster of Indian Veg restaurants\n",
    "\n",
    "Then we use the cluster centres to find the cluster that is farthest from the existing branches. This would indicate a potential place to set up a Madurai Idly shop."
   ]
  }
 ],
 "metadata": {
  "kernelspec": {
   "display_name": "Python",
   "language": "python",
   "name": "conda-env-python-py"
  },
  "language_info": {
   "codemirror_mode": {
    "name": "ipython",
    "version": 3
   },
   "file_extension": ".py",
   "mimetype": "text/x-python",
   "name": "python",
   "nbconvert_exporter": "python",
   "pygments_lexer": "ipython3",
   "version": "3.6.13"
  }
 },
 "nbformat": 4,
 "nbformat_minor": 5
}
